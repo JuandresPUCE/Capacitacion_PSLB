{
 "cells": [
  {
   "cell_type": "code",
   "execution_count": 1,
   "metadata": {},
   "outputs": [],
   "source": [
    "import numpy as np"
   ]
  },
  {
   "cell_type": "code",
   "execution_count": 2,
   "metadata": {},
   "outputs": [],
   "source": [
    "countries = np.array(['India','Peru','USA','Nigeria','Pakistan','Germany'])"
   ]
  },
  {
   "cell_type": "code",
   "execution_count": 3,
   "metadata": {},
   "outputs": [],
   "source": [
    "loc_1=countries.view()\n",
    "loc_2=countries.view()"
   ]
  },
  {
   "cell_type": "code",
   "execution_count": 8,
   "metadata": {},
   "outputs": [
    {
     "name": "stdout",
     "output_type": "stream",
     "text": [
      "2588363615632 2588257092976 2588257098160\n",
      "False\n"
     ]
    }
   ],
   "source": [
    "#las vistas asignan objetos diferentes a pesar de contrner los mismos datos\n",
    "print(id(countries),id(loc_1),id(loc_2))\n",
    "print(loc_1 is countries)"
   ]
  },
  {
   "cell_type": "code",
   "execution_count": 10,
   "metadata": {},
   "outputs": [
    {
     "data": {
      "text/plain": [
       "True"
      ]
     },
     "execution_count": 10,
     "metadata": {},
     "output_type": "execute_result"
    }
   ],
   "source": [
    "#compara intrinsicamente\n",
    "loc_1.base is countries"
   ]
  },
  {
   "cell_type": "code",
   "execution_count": 11,
   "metadata": {},
   "outputs": [
    {
     "data": {
      "text/plain": [
       "array(['India', 'Peru', 'USA', 'Ghana', 'Pakistan', 'Germany'],\n",
       "      dtype='<U8')"
      ]
     },
     "execution_count": 11,
     "metadata": {},
     "output_type": "execute_result"
    }
   ],
   "source": [
    "#substitucion de valores\n",
    "loc_2[3]='Ghana'\n",
    "loc_2"
   ]
  },
  {
   "cell_type": "code",
   "execution_count": 13,
   "metadata": {},
   "outputs": [
    {
     "data": {
      "text/plain": [
       "array(['India', 'Peru', 'USA', 'Ghana', 'Pakistan', 'Germany'],\n",
       "      dtype='<U8')"
      ]
     },
     "execution_count": 13,
     "metadata": {},
     "output_type": "execute_result"
    }
   ],
   "source": [
    "#ojo tambien se modifica la vista y no es independiente del arreglo original \n",
    "countries"
   ]
  },
  {
   "cell_type": "code",
   "execution_count": 15,
   "metadata": {},
   "outputs": [
    {
     "data": {
      "text/plain": [
       "array(['France', 'Iran', 'Australia', 'Mexico', 'Cuba', 'Egypt'],\n",
       "      dtype='<U9')"
      ]
     },
     "execution_count": 15,
     "metadata": {},
     "output_type": "execute_result"
    }
   ],
   "source": [
    "#modificacion de la data de la vista\n",
    "loc_1=np.array(['France','Iran','Australia','Mexico','Cuba','Egypt'])\n",
    "loc_1"
   ]
  },
  {
   "cell_type": "code",
   "execution_count": 16,
   "metadata": {},
   "outputs": [
    {
     "data": {
      "text/plain": [
       "array(['India', 'Peru', 'USA', 'Ghana', 'Pakistan', 'Germany'],\n",
       "      dtype='<U8')"
      ]
     },
     "execution_count": 16,
     "metadata": {},
     "output_type": "execute_result"
    }
   ],
   "source": [
    "countries"
   ]
  },
  {
   "cell_type": "code",
   "execution_count": 17,
   "metadata": {},
   "outputs": [
    {
     "name": "stdout",
     "output_type": "stream",
     "text": [
      "forma loc_2 (2, 3)\n",
      "Contents:\n",
      " [['India' 'Peru' 'USA']\n",
      " ['Ghana' 'Pakistan' 'Germany']]\n"
     ]
    }
   ],
   "source": [
    "#cambio de forma de la vista loc_2\n",
    "loc_2.shape = 2,3\n",
    "print('forma loc_2', loc_2.shape)\n",
    "print('Contents:\\n', loc_2)"
   ]
  },
  {
   "cell_type": "code",
   "execution_count": 18,
   "metadata": {},
   "outputs": [
    {
     "name": "stdout",
     "output_type": "stream",
     "text": [
      "forma loc_2 (6,)\n",
      "Contents:\n",
      " ['India' 'Peru' 'USA' 'Ghana' 'Pakistan' 'Germany']\n"
     ]
    }
   ],
   "source": [
    "print('forma loc_2', countries.shape)\n",
    "print('Contents:\\n', countries)"
   ]
  }
 ],
 "metadata": {
  "kernelspec": {
   "display_name": "Python 3",
   "language": "python",
   "name": "python3"
  },
  "language_info": {
   "codemirror_mode": {
    "name": "ipython",
    "version": 3
   },
   "file_extension": ".py",
   "mimetype": "text/x-python",
   "name": "python",
   "nbconvert_exporter": "python",
   "pygments_lexer": "ipython3",
   "version": "3.11.3"
  },
  "orig_nbformat": 4
 },
 "nbformat": 4,
 "nbformat_minor": 2
}
