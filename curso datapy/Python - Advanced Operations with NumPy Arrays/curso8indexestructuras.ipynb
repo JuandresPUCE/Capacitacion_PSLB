{
 "cells": [
  {
   "cell_type": "code",
   "execution_count": 1,
   "metadata": {},
   "outputs": [],
   "source": [
    "import numpy as np\n",
    "#arreglos estructurados"
   ]
  },
  {
   "cell_type": "code",
   "execution_count": 3,
   "metadata": {},
   "outputs": [],
   "source": [
    "emp_names=['Dani','Lore','Manu','Ryan','Tere','Wes',]\n",
    "emp_id=['1','2','3','4','5','6',]\n",
    "emp_score=['78.2','57.5','90','77','96.2','87.37',]"
   ]
  },
  {
   "cell_type": "code",
   "execution_count": 5,
   "metadata": {},
   "outputs": [],
   "source": [
    "#dicccionario del arreglo\n",
    "emp_data=np.zeros(6,dtype={'names':('name','id','score'),'formats':('U16','i4','f8')})"
   ]
  },
  {
   "cell_type": "code",
   "execution_count": 7,
   "metadata": {},
   "outputs": [
    {
     "data": {
      "text/plain": [
       "array([('Dani', 1, 78.2 ), ('Lore', 2, 57.5 ), ('Manu', 3, 90.  ),\n",
       "       ('Ryan', 4, 77.  ), ('Tere', 5, 96.2 ), ('Wes', 6, 87.37)],\n",
       "      dtype=[('name', '<U16'), ('id', '<i4'), ('score', '<f8')])"
      ]
     },
     "execution_count": 7,
     "metadata": {},
     "output_type": "execute_result"
    }
   ],
   "source": [
    "#llenado del arreglo por asignaiciones\n",
    "emp_data['name']=emp_names\n",
    "emp_data['id']=emp_id\n",
    "emp_data['score']=emp_score\n",
    "emp_data"
   ]
  },
  {
   "cell_type": "code",
   "execution_count": 8,
   "metadata": {},
   "outputs": [
    {
     "data": {
      "text/plain": [
       "array(['Dani', 'Lore', 'Manu', 'Ryan', 'Tere', 'Wes'], dtype='<U16')"
      ]
     },
     "execution_count": 8,
     "metadata": {},
     "output_type": "execute_result"
    }
   ],
   "source": [
    "\n",
    "emp_data['name']"
   ]
  },
  {
   "cell_type": "code",
   "execution_count": 10,
   "metadata": {},
   "outputs": [
    {
     "name": "stdout",
     "output_type": "stream",
     "text": [
      "('Manu', 3, 90.)\n",
      "('Tere', 5, 96.2)\n"
     ]
    }
   ],
   "source": [
    "#desplegar indice positivo y negativo\n",
    "print(emp_data[2])\n",
    "print(emp_data[-2])"
   ]
  },
  {
   "cell_type": "code",
   "execution_count": 12,
   "metadata": {},
   "outputs": [
    {
     "data": {
      "text/plain": [
       "array(['Manu', 'Tere', 'Wes'], dtype='<U16')"
      ]
     },
     "execution_count": 12,
     "metadata": {},
     "output_type": "execute_result"
    }
   ],
   "source": [
    "emp_data[emp_data['score']>85]['name']"
   ]
  },
  {
   "cell_type": "code",
   "execution_count": 13,
   "metadata": {},
   "outputs": [
    {
     "data": {
      "text/plain": [
       "array(['Lore'], dtype='<U16')"
      ]
     },
     "execution_count": 13,
     "metadata": {},
     "output_type": "execute_result"
    }
   ],
   "source": [
    "emp_data[emp_data['score']<75]['name']"
   ]
  }
 ],
 "metadata": {
  "kernelspec": {
   "display_name": "Python 3",
   "language": "python",
   "name": "python3"
  },
  "language_info": {
   "codemirror_mode": {
    "name": "ipython",
    "version": 3
   },
   "file_extension": ".py",
   "mimetype": "text/x-python",
   "name": "python",
   "nbconvert_exporter": "python",
   "pygments_lexer": "ipython3",
   "version": "3.11.3"
  },
  "orig_nbformat": 4
 },
 "nbformat": 4,
 "nbformat_minor": 2
}
