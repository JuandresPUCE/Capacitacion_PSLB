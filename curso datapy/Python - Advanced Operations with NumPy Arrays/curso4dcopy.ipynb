{
 "cells": [
  {
   "cell_type": "code",
   "execution_count": 1,
   "metadata": {},
   "outputs": [],
   "source": [
    "import numpy as np "
   ]
  },
  {
   "cell_type": "code",
   "execution_count": 2,
   "metadata": {},
   "outputs": [],
   "source": [
    "countries = np.array(['India','Peru','USA','Nigeria','Pakistan','Germany'])"
   ]
  },
  {
   "cell_type": "code",
   "execution_count": 3,
   "metadata": {},
   "outputs": [
    {
     "data": {
      "text/plain": [
       "array(['India', 'Peru', 'USA', 'Nigeria', 'Pakistan', 'Germany'],\n",
       "      dtype='<U8')"
      ]
     },
     "execution_count": 3,
     "metadata": {},
     "output_type": "execute_result"
    }
   ],
   "source": [
    "loc = countries.copy()\n",
    "loc"
   ]
  },
  {
   "cell_type": "code",
   "execution_count": 5,
   "metadata": {},
   "outputs": [
    {
     "name": "stdout",
     "output_type": "stream",
     "text": [
      "False\n",
      "False\n"
     ]
    }
   ],
   "source": [
    "print(loc is countries)\n",
    "print(loc.base is countries)"
   ]
  },
  {
   "cell_type": "code",
   "execution_count": 8,
   "metadata": {},
   "outputs": [
    {
     "name": "stdout",
     "output_type": "stream",
     "text": [
      "['Turkey' 'Peru' 'USA' 'Nigeria' 'Pakistan' 'Germany']\n",
      "['India' 'Peru' 'USA' 'Nigeria' 'Pakistan' 'Germany']\n"
     ]
    }
   ],
   "source": [
    "#modificador de arreglo, no modifica como la vista es independiente\n",
    "loc[0] = 'Turkey'\n",
    "print(loc)\n",
    "print(countries)"
   ]
  },
  {
   "cell_type": "code",
   "execution_count": 9,
   "metadata": {},
   "outputs": [
    {
     "name": "stdout",
     "output_type": "stream",
     "text": [
      "forma loc (2, 3)\n",
      "Contents:\n",
      " [['Turkey' 'Peru' 'USA']\n",
      " ['Nigeria' 'Pakistan' 'Germany']]\n",
      "forma original (6,)\n",
      "Contents:\n",
      " ['India' 'Peru' 'USA' 'Nigeria' 'Pakistan' 'Germany']\n"
     ]
    }
   ],
   "source": [
    "loc.shape=2,3\n",
    "print('forma loc', loc.shape )\n",
    "print('Contents:\\n', loc)\n",
    "\n",
    "print('forma original', countries.shape )\n",
    "print('Contents:\\n', countries)"
   ]
  }
 ],
 "metadata": {
  "kernelspec": {
   "display_name": "Python 3",
   "language": "python",
   "name": "python3"
  },
  "language_info": {
   "codemirror_mode": {
    "name": "ipython",
    "version": 3
   },
   "file_extension": ".py",
   "mimetype": "text/x-python",
   "name": "python",
   "nbconvert_exporter": "python",
   "pygments_lexer": "ipython3",
   "version": "3.11.3"
  },
  "orig_nbformat": 4
 },
 "nbformat": 4,
 "nbformat_minor": 2
}
