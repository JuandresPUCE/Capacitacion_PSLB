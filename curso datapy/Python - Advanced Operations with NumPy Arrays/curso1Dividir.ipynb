{
 "cells": [
  {
   "cell_type": "code",
   "execution_count": 1,
   "metadata": {},
   "outputs": [],
   "source": [
    "import numpy as np  "
   ]
  },
  {
   "cell_type": "code",
   "execution_count": 2,
   "metadata": {},
   "outputs": [
    {
     "data": {
      "text/plain": [
       "array([ 0,  1,  2,  3,  4,  5,  6,  7,  8,  9, 10, 11])"
      ]
     },
     "execution_count": 2,
     "metadata": {},
     "output_type": "execute_result"
    }
   ],
   "source": [
    "p= np.arange(12)\n",
    "p"
   ]
  },
  {
   "cell_type": "code",
   "execution_count": 3,
   "metadata": {},
   "outputs": [
    {
     "data": {
      "text/plain": [
       "[array([0, 1, 2]), array([3, 4, 5]), array([6, 7, 8]), array([ 9, 10, 11])]"
      ]
     },
     "execution_count": 3,
     "metadata": {},
     "output_type": "execute_result"
    }
   ],
   "source": [
    "#dividir el arreglo en partes iguales\n",
    "np.split(p,4)"
   ]
  },
  {
   "cell_type": "code",
   "execution_count": 4,
   "metadata": {},
   "outputs": [
    {
     "data": {
      "text/plain": [
       "[array([0, 1, 2]), array([3, 4, 5, 6, 7]), array([ 8,  9, 10, 11])]"
      ]
     },
     "execution_count": 4,
     "metadata": {},
     "output_type": "execute_result"
    }
   ],
   "source": [
    "#dividir segun posiciones divide en 3 partes desiguales:\n",
    "np.split(p,[3,8])"
   ]
  },
  {
   "cell_type": "code",
   "execution_count": 6,
   "metadata": {},
   "outputs": [
    {
     "data": {
      "text/plain": [
       "array([['IBM', 'Apple', 'Intel', 'Sony', 'Dell', 'Akamai'],\n",
       "       ['New Y', 'California', 'California', 'Texas', 'Washington',\n",
       "        'Massachusetts']], dtype='<U13')"
      ]
     },
     "execution_count": 6,
     "metadata": {},
     "output_type": "execute_result"
    }
   ],
   "source": [
    "tech_companies=np.array([('IBM','Apple','Intel','Sony','Dell','Akamai'),('New Y','California','California','Texas','Washington','Massachusetts')])\n",
    "tech_companies"
   ]
  },
  {
   "cell_type": "code",
   "execution_count": 7,
   "metadata": {},
   "outputs": [],
   "source": [
    "#division horizontal en columnas\n",
    "x1, x2 = np.hsplit(tech_companies,2)"
   ]
  },
  {
   "cell_type": "code",
   "execution_count": 8,
   "metadata": {},
   "outputs": [
    {
     "name": "stdout",
     "output_type": "stream",
     "text": [
      "[['IBM' 'Apple' 'Intel']\n",
      " ['New Y' 'California' 'California']]\n",
      "[['Sony' 'Dell' 'Akamai']\n",
      " ['Texas' 'Washington' 'Massachusetts']]\n"
     ]
    }
   ],
   "source": [
    "#resultado de dividir el arreglo en columnas\n",
    "print(x1)\n",
    "print(x2)"
   ]
  },
  {
   "cell_type": "code",
   "execution_count": 9,
   "metadata": {},
   "outputs": [
    {
     "data": {
      "text/plain": [
       "[array([['IBM'],\n",
       "        ['New Y']], dtype='<U13'),\n",
       " array([['Apple'],\n",
       "        ['California']], dtype='<U13'),\n",
       " array([['Intel'],\n",
       "        ['California']], dtype='<U13'),\n",
       " array([['Sony'],\n",
       "        ['Texas']], dtype='<U13'),\n",
       " array([['Dell'],\n",
       "        ['Washington']], dtype='<U13'),\n",
       " array([['Akamai'],\n",
       "        ['Massachusetts']], dtype='<U13')]"
      ]
     },
     "execution_count": 9,
     "metadata": {},
     "output_type": "execute_result"
    }
   ],
   "source": [
    "#divisor de arreglo por 6 columnas\n",
    "np.hsplit(tech_companies,6)"
   ]
  },
  {
   "cell_type": "code",
   "execution_count": 10,
   "metadata": {},
   "outputs": [],
   "source": [
    "#division por filas\n",
    "y1,y2 = np.vsplit(tech_companies,2)"
   ]
  },
  {
   "cell_type": "code",
   "execution_count": 11,
   "metadata": {},
   "outputs": [
    {
     "name": "stdout",
     "output_type": "stream",
     "text": [
      "[['IBM' 'Apple' 'Intel' 'Sony' 'Dell' 'Akamai']]\n",
      "[['New Y' 'California' 'California' 'Texas' 'Washington' 'Massachusetts']]\n"
     ]
    }
   ],
   "source": [
    "#resultado de dividir el arreglo en filas\n",
    "print(y1)\n",
    "print(y2)"
   ]
  }
 ],
 "metadata": {
  "kernelspec": {
   "display_name": "Python 3",
   "language": "python",
   "name": "python3"
  },
  "language_info": {
   "codemirror_mode": {
    "name": "ipython",
    "version": 3
   },
   "file_extension": ".py",
   "mimetype": "text/x-python",
   "name": "python",
   "nbconvert_exporter": "python",
   "pygments_lexer": "ipython3",
   "version": "3.11.3"
  },
  "orig_nbformat": 4
 },
 "nbformat": 4,
 "nbformat_minor": 2
}
