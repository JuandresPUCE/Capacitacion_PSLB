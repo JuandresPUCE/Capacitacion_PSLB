{
 "cells": [
  {
   "cell_type": "code",
   "execution_count": 1,
   "metadata": {},
   "outputs": [],
   "source": [
    "import numpy as np"
   ]
  },
  {
   "cell_type": "code",
   "execution_count": 2,
   "metadata": {},
   "outputs": [],
   "source": [
    "radio_circulo=np.array([145,120,90,60,45,30])"
   ]
  },
  {
   "cell_type": "code",
   "execution_count": 4,
   "metadata": {},
   "outputs": [
    {
     "data": {
      "text/plain": [
       "array([290, 240, 180, 120,  90,  60])"
      ]
     },
     "execution_count": 4,
     "metadata": {},
     "output_type": "execute_result"
    }
   ],
   "source": [
    "diametros_circulo=2*radio_circulo\n",
    "diametros_circulo"
   ]
  },
  {
   "cell_type": "code",
   "execution_count": 6,
   "metadata": {},
   "outputs": [
    {
     "data": {
      "text/plain": [
       "array([66051.98554173, 45238.93421169, 25446.90049408, 11309.73355292,\n",
       "        6361.72512352,  2827.43338823])"
      ]
     },
     "execution_count": 6,
     "metadata": {},
     "output_type": "execute_result"
    }
   ],
   "source": [
    "areas_circulo=np.pi*radio_circulo**2\n",
    "areas_circulo"
   ]
  },
  {
   "cell_type": "code",
   "execution_count": 7,
   "metadata": {},
   "outputs": [],
   "source": [
    "angulos_grados=np.array([0,30,60,90,120,150,180])\n"
   ]
  },
  {
   "cell_type": "code",
   "execution_count": 9,
   "metadata": {},
   "outputs": [
    {
     "data": {
      "text/plain": [
       "array([0.        , 0.52359878, 1.04719755, 1.57079633, 2.0943951 ,\n",
       "       2.61799388, 3.14159265])"
      ]
     },
     "execution_count": 9,
     "metadata": {},
     "output_type": "execute_result"
    }
   ],
   "source": [
    "angulos_rad=angulos_grados*np.pi/180\n",
    "angulos_rad"
   ]
  },
  {
   "cell_type": "code",
   "execution_count": 10,
   "metadata": {},
   "outputs": [
    {
     "name": "stdout",
     "output_type": "stream",
     "text": [
      "seno angulos: \n"
     ]
    },
    {
     "data": {
      "text/plain": [
       "array([0.00000000e+00, 5.00000000e-01, 8.66025404e-01, 1.00000000e+00,\n",
       "       8.66025404e-01, 5.00000000e-01, 1.22464680e-16])"
      ]
     },
     "execution_count": 10,
     "metadata": {},
     "output_type": "execute_result"
    }
   ],
   "source": [
    "print('seno angulos: ')\n",
    "np.sin(angulos_rad)"
   ]
  },
  {
   "cell_type": "code",
   "execution_count": 11,
   "metadata": {},
   "outputs": [
    {
     "name": "stdout",
     "output_type": "stream",
     "text": [
      "arcoseno angulos: \n"
     ]
    },
    {
     "data": {
      "text/plain": [
       "array([0.00000000e+00, 5.23598776e-01, 1.04719755e+00, 1.57079633e+00,\n",
       "       1.04719755e+00, 5.23598776e-01, 1.22464680e-16])"
      ]
     },
     "execution_count": 11,
     "metadata": {},
     "output_type": "execute_result"
    }
   ],
   "source": [
    "print('arcoseno angulos: ')\n",
    "np.arcsin(np.sin(angulos_rad))"
   ]
  },
  {
   "cell_type": "code",
   "execution_count": 12,
   "metadata": {},
   "outputs": [
    {
     "name": "stdout",
     "output_type": "stream",
     "text": [
      "arcoseno angulos en grados: \n"
     ]
    },
    {
     "data": {
      "text/plain": [
       "array([0.0000000e+00, 3.0000000e+01, 6.0000000e+01, 9.0000000e+01,\n",
       "       6.0000000e+01, 3.0000000e+01, 7.0167093e-15])"
      ]
     },
     "execution_count": 12,
     "metadata": {},
     "output_type": "execute_result"
    }
   ],
   "source": [
    "print('arcoseno angulos en grados: ')\n",
    "np.arcsin(np.sin(angulos_rad))*180/np.pi"
   ]
  },
  {
   "cell_type": "code",
   "execution_count": 14,
   "metadata": {},
   "outputs": [
    {
     "data": {
      "text/plain": [
       "array([5.45981500e+01, 8.10308393e+03, 1.20260428e+06, 1.78482301e+08,\n",
       "       2.64891221e+10, 3.93133430e+12])"
      ]
     },
     "execution_count": 14,
     "metadata": {},
     "output_type": "execute_result"
    }
   ],
   "source": [
    "#e^x\n",
    "x=np.arange(4,31,5)\n",
    "expo=np.exp(x)\n",
    "expo"
   ]
  },
  {
   "cell_type": "code",
   "execution_count": 16,
   "metadata": {},
   "outputs": [
    {
     "data": {
      "text/plain": [
       "array([2.        , 3.        , 3.74165739, 4.35889894, 4.89897949,\n",
       "       5.38516481])"
      ]
     },
     "execution_count": 16,
     "metadata": {},
     "output_type": "execute_result"
    }
   ],
   "source": [
    "#raizcuadrada de x\n",
    "sqrt=np.sqrt(x)\n",
    "sqrt"
   ]
  },
  {
   "cell_type": "code",
   "execution_count": 2,
   "metadata": {},
   "outputs": [],
   "source": [
    "#arreglo flotantes\n",
    "flotar_values=np.genfromtxt('datasets/float_values.csv', delimiter=',')"
   ]
  },
  {
   "cell_type": "code",
   "execution_count": 9,
   "metadata": {},
   "outputs": [
    {
     "name": "stdout",
     "output_type": "stream",
     "text": [
      "media= 16\n",
      "mediana= 5\n",
      "varianza= 1659\n",
      "SD= 40\n"
     ]
    }
   ],
   "source": [
    "#stadisticas e NP\n",
    "print('media= %i' %np.mean(flotar_values))\n",
    "print('mediana= %i' %np.median(flotar_values))\n",
    "print('varianza= %i' %np.var(flotar_values))\n",
    "print('SD= %i' %np.std(flotar_values))"
   ]
  }
 ],
 "metadata": {
  "kernelspec": {
   "display_name": "Python 3",
   "language": "python",
   "name": "python3"
  },
  "language_info": {
   "codemirror_mode": {
    "name": "ipython",
    "version": 3
   },
   "file_extension": ".py",
   "mimetype": "text/x-python",
   "name": "python",
   "nbconvert_exporter": "python",
   "pygments_lexer": "ipython3",
   "version": "3.11.3"
  },
  "orig_nbformat": 4
 },
 "nbformat": 4,
 "nbformat_minor": 2
}
