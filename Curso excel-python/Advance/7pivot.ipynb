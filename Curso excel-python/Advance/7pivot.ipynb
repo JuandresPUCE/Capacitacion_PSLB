{
 "cells": [
  {
   "cell_type": "code",
   "execution_count": 1,
   "metadata": {},
   "outputs": [],
   "source": [
    "import pandas as pd  \n",
    "sales_df=pd.read_excel('sales_record.xlsx')\n",
    "\n"
   ]
  },
  {
   "cell_type": "code",
   "execution_count": 4,
   "metadata": {},
   "outputs": [],
   "source": [
    "#sales_df.head() #despliega en tabla items de la hoja excel "
   ]
  },
  {
   "cell_type": "code",
   "execution_count": 6,
   "metadata": {},
   "outputs": [],
   "source": [
    "#sales_df.sort_values(by=[\"Region\",\"Country\",\"Item_Type\"]).head(10) #ordena segun las filas que se requiera"
   ]
  },
  {
   "cell_type": "code",
   "execution_count": 8,
   "metadata": {},
   "outputs": [],
   "source": [
    "#sales_df.sort_values(by=[\"Region\",\"Country\",\"Item_Type\"]).tail(10)#para los 'ultimos datos"
   ]
  },
  {
   "cell_type": "code",
   "execution_count": 3,
   "metadata": {},
   "outputs": [],
   "source": [
    "import numpy as np  "
   ]
  },
  {
   "cell_type": "code",
   "execution_count": 4,
   "metadata": {},
   "outputs": [],
   "source": [
    "table= pd.pivot_table(sales_df,index=[\"Region\",\"Country\"],values=[\"Units_Sold\",\"Total_Revenue\",\"Total_Profit\"],aggfunc=[np.sum])\n",
    "#la tabla dinamica mediante pd.pivot_table, sales_df sera la data donde se toma\n",
    "# index da las filas\n",
    "# values seran las columnas\n",
    "# valores de agregacion "
   ]
  },
  {
   "cell_type": "code",
   "execution_count": 7,
   "metadata": {},
   "outputs": [
    {
     "data": {
      "text/html": [
       "<div>\n",
       "<style scoped>\n",
       "    .dataframe tbody tr th:only-of-type {\n",
       "        vertical-align: middle;\n",
       "    }\n",
       "\n",
       "    .dataframe tbody tr th {\n",
       "        vertical-align: top;\n",
       "    }\n",
       "\n",
       "    .dataframe thead tr th {\n",
       "        text-align: left;\n",
       "    }\n",
       "\n",
       "    .dataframe thead tr:last-of-type th {\n",
       "        text-align: right;\n",
       "    }\n",
       "</style>\n",
       "<table border=\"1\" class=\"dataframe\">\n",
       "  <thead>\n",
       "    <tr>\n",
       "      <th></th>\n",
       "      <th></th>\n",
       "      <th colspan=\"3\" halign=\"left\">sum</th>\n",
       "    </tr>\n",
       "    <tr>\n",
       "      <th></th>\n",
       "      <th></th>\n",
       "      <th>Total_Profit</th>\n",
       "      <th>Total_Revenue</th>\n",
       "      <th>Units_Sold</th>\n",
       "    </tr>\n",
       "    <tr>\n",
       "      <th>Region</th>\n",
       "      <th>Country</th>\n",
       "      <th></th>\n",
       "      <th></th>\n",
       "      <th></th>\n",
       "    </tr>\n",
       "  </thead>\n",
       "  <tbody>\n",
       "    <tr>\n",
       "      <th rowspan=\"9\" valign=\"top\">Asia</th>\n",
       "      <th>Bangladesh</th>\n",
       "      <td>606834.72</td>\n",
       "      <td>902980.64</td>\n",
       "      <td>8263</td>\n",
       "    </tr>\n",
       "    <tr>\n",
       "      <th>Brunei</th>\n",
       "      <td>846885.00</td>\n",
       "      <td>4368316.68</td>\n",
       "      <td>6708</td>\n",
       "    </tr>\n",
       "    <tr>\n",
       "      <th>Kyrgyzstan</th>\n",
       "      <td>7828.12</td>\n",
       "      <td>19103.44</td>\n",
       "      <td>124</td>\n",
       "    </tr>\n",
       "    <tr>\n",
       "      <th>Laos</th>\n",
       "      <td>235601.16</td>\n",
       "      <td>574951.92</td>\n",
       "      <td>3732</td>\n",
       "    </tr>\n",
       "    <tr>\n",
       "      <th>Malaysia</th>\n",
       "      <td>15103.47</td>\n",
       "      <td>58471.11</td>\n",
       "      <td>6267</td>\n",
       "    </tr>\n",
       "    <tr>\n",
       "      <th>Mongolia</th>\n",
       "      <td>122819.06</td>\n",
       "      <td>400558.73</td>\n",
       "      <td>4901</td>\n",
       "    </tr>\n",
       "    <tr>\n",
       "      <th>Myanmar</th>\n",
       "      <td>1802771.70</td>\n",
       "      <td>6161257.90</td>\n",
       "      <td>14180</td>\n",
       "    </tr>\n",
       "    <tr>\n",
       "      <th>Sri Lanka</th>\n",
       "      <td>1208744.24</td>\n",
       "      <td>3039414.40</td>\n",
       "      <td>6952</td>\n",
       "    </tr>\n",
       "    <tr>\n",
       "      <th>Turkmenistan</th>\n",
       "      <td>1267258.40</td>\n",
       "      <td>5822036.20</td>\n",
       "      <td>8840</td>\n",
       "    </tr>\n",
       "    <tr>\n",
       "      <th>Australia and Oceania</th>\n",
       "      <th>Australia</th>\n",
       "      <td>576605.12</td>\n",
       "      <td>2489933.49</td>\n",
       "      <td>12995</td>\n",
       "    </tr>\n",
       "  </tbody>\n",
       "</table>\n",
       "</div>"
      ],
      "text/plain": [
       "                                            sum                         \n",
       "                                   Total_Profit Total_Revenue Units_Sold\n",
       "Region                Country                                           \n",
       "Asia                  Bangladesh      606834.72     902980.64       8263\n",
       "                      Brunei          846885.00    4368316.68       6708\n",
       "                      Kyrgyzstan        7828.12      19103.44        124\n",
       "                      Laos            235601.16     574951.92       3732\n",
       "                      Malaysia         15103.47      58471.11       6267\n",
       "                      Mongolia        122819.06     400558.73       4901\n",
       "                      Myanmar        1802771.70    6161257.90      14180\n",
       "                      Sri Lanka      1208744.24    3039414.40       6952\n",
       "                      Turkmenistan   1267258.40    5822036.20       8840\n",
       "Australia and Oceania Australia       576605.12    2489933.49      12995"
      ]
     },
     "execution_count": 7,
     "metadata": {},
     "output_type": "execute_result"
    }
   ],
   "source": [
    "#despliegue de la tabla dinamica\n",
    "table.head(10)"
   ]
  },
  {
   "cell_type": "code",
   "execution_count": 15,
   "metadata": {},
   "outputs": [],
   "source": [
    "#table.loc['Asia',:] \n",
    "# #filtro de valores de la region asia donde se ubica el pais en el arreglo "
   ]
  },
  {
   "cell_type": "code",
   "execution_count": 6,
   "metadata": {},
   "outputs": [
    {
     "data": {
      "text/plain": [
       "Index(['Asia', 'Australia and Oceania', 'Central America', 'Europe',\n",
       "       'Middle East and North Africa', 'North America', 'Sub-Saharan Africa'],\n",
       "      dtype='object', name='Region')"
      ]
     },
     "execution_count": 6,
     "metadata": {},
     "output_type": "execute_result"
    }
   ],
   "source": [
    "table.index.get_level_values(0)\n",
    "unique_regions= table.index.get_level_values(0).unique()\n",
    "unique_contries= table.index.get_level_values(1).unique()\n",
    "unique_regions\n"
   ]
  },
  {
   "cell_type": "code",
   "execution_count": 22,
   "metadata": {},
   "outputs": [],
   "source": [
    "#lectura de los paises y sus sumas  \n",
    "#for region in unique_regions:\n",
    "#    print(table.loc[(region),])"
   ]
  },
  {
   "cell_type": "code",
   "execution_count": 30,
   "metadata": {},
   "outputs": [],
   "source": [
    "\n",
    "writer = pd.ExcelWriter('sales_pivot_tables.xlsx')\n",
    "\n",
    "for region in unique_regions:\n",
    "    temp_df = table.loc[ (region), : ]\n",
    "    temp_df.to_excel(writer, region)\n",
    "#ojo en algunas vesiones se usa writer.save() o .close()\n",
    "writer.close()\n"
   ]
  }
 ],
 "metadata": {
  "kernelspec": {
   "display_name": "Python 3",
   "language": "python",
   "name": "python3"
  },
  "language_info": {
   "codemirror_mode": {
    "name": "ipython",
    "version": 3
   },
   "file_extension": ".py",
   "mimetype": "text/x-python",
   "name": "python",
   "nbconvert_exporter": "python",
   "pygments_lexer": "ipython3",
   "version": "3.11.3"
  },
  "orig_nbformat": 4
 },
 "nbformat": 4,
 "nbformat_minor": 2
}
