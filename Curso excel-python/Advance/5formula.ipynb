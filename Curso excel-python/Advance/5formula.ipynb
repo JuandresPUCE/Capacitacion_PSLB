{
 "cells": [
  {
   "cell_type": "code",
   "execution_count": 1,
   "metadata": {},
   "outputs": [],
   "source": [
    "from openpyxl.utils import FORMULAE"
   ]
  },
  {
   "cell_type": "code",
   "execution_count": 15,
   "metadata": {},
   "outputs": [],
   "source": [
    "#FORMULAE "
   ]
  },
  {
   "cell_type": "code",
   "execution_count": 2,
   "metadata": {},
   "outputs": [],
   "source": [
    "import openpyxl #libreria para modificar xl\n",
    "work_book =openpyxl.Workbook() #en memoria\n",
    "sheet = work_book.active #hoja activa"
   ]
  },
  {
   "cell_type": "code",
   "execution_count": 17,
   "metadata": {},
   "outputs": [],
   "source": [
    "sheet['A1']=21\n",
    "sheet['A2']=11\n",
    "sheet['A3']=7\n",
    "sheet['A4']=9\n",
    "sheet['A5']=6"
   ]
  },
  {
   "cell_type": "code",
   "execution_count": 18,
   "metadata": {},
   "outputs": [],
   "source": [
    "sheet['c2']='sum:'\n",
    "sheet['d2']='=sum(A1:A5)'"
   ]
  },
  {
   "cell_type": "code",
   "execution_count": 24,
   "metadata": {},
   "outputs": [],
   "source": [
    "sheet['c3']='PRODUCT:'\n",
    "sheet['d3']='=PRODUCT(A1:A5)'"
   ]
  },
  {
   "cell_type": "code",
   "execution_count": 20,
   "metadata": {},
   "outputs": [],
   "source": [
    "sheet['c4']='count:'\n",
    "sheet['d4']='=count(A1:A5)'"
   ]
  },
  {
   "cell_type": "code",
   "execution_count": 22,
   "metadata": {},
   "outputs": [],
   "source": [
    "sheet['c5']='media:'\n",
    "sheet['d5']='=average(A1:A5)'"
   ]
  },
  {
   "cell_type": "code",
   "execution_count": 18,
   "metadata": {},
   "outputs": [],
   "source": [
    "work_book.save(\"formul.xlsx\")"
   ]
  },
  {
   "cell_type": "code",
   "execution_count": 6,
   "metadata": {},
   "outputs": [],
   "source": [
    "header=['cake','Quantity','Price','revenue']"
   ]
  },
  {
   "cell_type": "code",
   "execution_count": 3,
   "metadata": {},
   "outputs": [],
   "source": [
    "data=[['chocolate',18,5,],['cheeseck',13,4.5],['3l',16,5.5],['carrot',8,4],['rv',9,4.5]]"
   ]
  },
  {
   "cell_type": "code",
   "execution_count": 4,
   "metadata": {},
   "outputs": [
    {
     "data": {
      "text/plain": [
       "<Worksheet \"ckSales\">"
      ]
     },
     "execution_count": 4,
     "metadata": {},
     "output_type": "execute_result"
    }
   ],
   "source": [
    "work_book.create_sheet('ckSales',index=0)"
   ]
  },
  {
   "cell_type": "code",
   "execution_count": 7,
   "metadata": {},
   "outputs": [],
   "source": [
    "cake_sales_sheet=work_book['ckSales']\n",
    "cake_sales_sheet.append(header)\n",
    "for row in data:\n",
    "    cake_sales_sheet.append(row)"
   ]
  },
  {
   "cell_type": "code",
   "execution_count": 10,
   "metadata": {},
   "outputs": [
    {
     "data": {
      "text/plain": [
       "'6'"
      ]
     },
     "execution_count": 10,
     "metadata": {},
     "output_type": "execute_result"
    }
   ],
   "source": [
    "max_row_str=str(cake_sales_sheet.max_row)\n",
    "max_row_str"
   ]
  },
  {
   "cell_type": "code",
   "execution_count": 11,
   "metadata": {},
   "outputs": [],
   "source": [
    "for row in cake_sales_sheet ['D2:D'+max_row_str]:\n",
    "    for cell in row:\n",
    "        cell.value='=$B${0}*$C${0}'.format(cell.row)"
   ]
  },
  {
   "cell_type": "code",
   "execution_count": 13,
   "metadata": {},
   "outputs": [],
   "source": [
    "totals_rw_str=str(cake_sales_sheet.max_row+2)\n",
    "cake_sales_sheet['c'+ totals_rw_str]='Total Sales:'\n",
    "cake_sales_sheet['D'+ totals_rw_str]='=SUM(D2:D'+max_row_str+')'"
   ]
  },
  {
   "cell_type": "code",
   "execution_count": 16,
   "metadata": {},
   "outputs": [],
   "source": [
    "for row in cake_sales_sheet['C2:D'+max_row_str]:\n",
    "    for cell in row:\n",
    "        cell.number_format='$#,##0.00'"
   ]
  },
  {
   "cell_type": "code",
   "execution_count": 17,
   "metadata": {},
   "outputs": [],
   "source": [
    "cake_sales_sheet['D'+totals_rw_str].number_format='$#,##0.00'"
   ]
  }
 ],
 "metadata": {
  "kernelspec": {
   "display_name": "Python 3",
   "language": "python",
   "name": "python3"
  },
  "language_info": {
   "codemirror_mode": {
    "name": "ipython",
    "version": 3
   },
   "file_extension": ".py",
   "mimetype": "text/x-python",
   "name": "python",
   "nbconvert_exporter": "python",
   "pygments_lexer": "ipython3",
   "version": "3.11.3"
  },
  "orig_nbformat": 4
 },
 "nbformat": 4,
 "nbformat_minor": 2
}
