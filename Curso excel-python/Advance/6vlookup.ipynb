{
 "cells": [
  {
   "cell_type": "code",
   "execution_count": 3,
   "metadata": {},
   "outputs": [],
   "source": [
    "import openpyxl\n",
    "w_b=openpyxl.load_workbook('products.xlsx')\n",
    "sheet=w_b['Products']\n",
    "\n",
    "\n"
   ]
  },
  {
   "cell_type": "code",
   "execution_count": 7,
   "metadata": {},
   "outputs": [
    {
     "data": {
      "text/plain": [
       "<generator object DefinedName.destinations at 0x000001FB72B2AA40>"
      ]
     },
     "execution_count": 7,
     "metadata": {},
     "output_type": "execute_result"
    }
   ],
   "source": [
    "fx_rng = w_b.defined_names['fx_rates']\n",
    "fx_rng.destinations\n"
   ]
  },
  {
   "cell_type": "code",
   "execution_count": 8,
   "metadata": {},
   "outputs": [
    {
     "data": {
      "text/plain": [
       "[((<Cell 'Data'.N3>, <Cell 'Data'.O3>),\n",
       "  (<Cell 'Data'.N4>, <Cell 'Data'.O4>),\n",
       "  (<Cell 'Data'.N5>, <Cell 'Data'.O5>),\n",
       "  (<Cell 'Data'.N6>, <Cell 'Data'.O6>),\n",
       "  (<Cell 'Data'.N7>, <Cell 'Data'.O7>),\n",
       "  (<Cell 'Data'.N8>, <Cell 'Data'.O8>),\n",
       "  (<Cell 'Data'.N9>, <Cell 'Data'.O9>),\n",
       "  (<Cell 'Data'.N10>, <Cell 'Data'.O10>),\n",
       "  (<Cell 'Data'.N11>, <Cell 'Data'.O11>))]"
      ]
     },
     "execution_count": 8,
     "metadata": {},
     "output_type": "execute_result"
    }
   ],
   "source": [
    "cells = []\n",
    "\n",
    "for title, coord in fx_rng.destinations:\n",
    "    ws=w_b[title]\n",
    "    cells.append(ws[coord])\n",
    "cells"
   ]
  },
  {
   "cell_type": "code",
   "execution_count": 10,
   "metadata": {},
   "outputs": [
    {
     "name": "stdout",
     "output_type": "stream",
     "text": [
      "8 filas 5 Columnas\n"
     ]
    }
   ],
   "source": [
    "print(sheet.max_row,\"filas\",  sheet.max_column,\"Columnas\")\n",
    "max_row_str=str(sheet.max_row)"
   ]
  },
  {
   "cell_type": "code",
   "execution_count": 14,
   "metadata": {},
   "outputs": [],
   "source": [
    "for row in sheet['c3:c'+max_row_str]:\n",
    "    for cell in row:\n",
    "        cell.value = '=$B${0}*vlookup($C$2, fx_rates, 2, FALSE)'.format(cell.row)\n",
    "        cell.number_format='$#,##0.00' "
   ]
  },
  {
   "cell_type": "code",
   "execution_count": 17,
   "metadata": {},
   "outputs": [
    {
     "name": "stderr",
     "output_type": "stream",
     "text": [
      "C:\\Users\\JAviles3\\AppData\\Local\\Temp\\ipykernel_14760\\3268394277.py:1: DeprecationWarning: Call to deprecated function create_named_range (Assign scoped named ranges directly to worksheets or global ones to the workbook. Deprecated in 3.1).\n",
      "  w_b.create_named_range('products',sheet, '$A$3:$B$'+max_row_str)\n"
     ]
    }
   ],
   "source": [
    "w_b.create_named_range('products',sheet, '$A$3:$B$'+max_row_str)"
   ]
  },
  {
   "cell_type": "code",
   "execution_count": 18,
   "metadata": {},
   "outputs": [],
   "source": [
    "w_b.save(\"transform_products.xlsx\")"
   ]
  }
 ],
 "metadata": {
  "kernelspec": {
   "display_name": "Python 3",
   "language": "python",
   "name": "python3"
  },
  "language_info": {
   "codemirror_mode": {
    "name": "ipython",
    "version": 3
   },
   "file_extension": ".py",
   "mimetype": "text/x-python",
   "name": "python",
   "nbconvert_exporter": "python",
   "pygments_lexer": "ipython3",
   "version": "3.11.3"
  },
  "orig_nbformat": 4
 },
 "nbformat": 4,
 "nbformat_minor": 2
}
