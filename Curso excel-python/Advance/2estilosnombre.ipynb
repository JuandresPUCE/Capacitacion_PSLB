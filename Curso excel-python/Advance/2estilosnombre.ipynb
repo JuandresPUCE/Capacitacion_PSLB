{
 "cells": [
  {
   "cell_type": "code",
   "execution_count": 20,
   "metadata": {},
   "outputs": [],
   "source": [
    "import openpyxl #libreria para modificar xl\n",
    "work_book =openpyxl.load_workbook('sales_record.xlsx') #carga desde archivo \n",
    "sheet = work_book.active #hoja activa"
   ]
  },
  {
   "cell_type": "code",
   "execution_count": 21,
   "metadata": {},
   "outputs": [
    {
     "name": "stdout",
     "output_type": "stream",
     "text": [
      "101 filas 13 Columnas\n"
     ]
    }
   ],
   "source": [
    "print(sheet.max_row,\"filas\",  sheet.max_column,\"Columnas\")"
   ]
  },
  {
   "cell_type": "code",
   "execution_count": 22,
   "metadata": {},
   "outputs": [],
   "source": [
    "#cambiar el formato \n",
    "for row in sheet ['k2:m101']:\n",
    "    for cell in row:\n",
    "        cell.number_format = '#,##0'"
   ]
  },
  {
   "cell_type": "code",
   "execution_count": 23,
   "metadata": {},
   "outputs": [],
   "source": [
    "from openpyxl.styles import PatternFill, colors\n",
    "from openpyxl.styles.differential import DifferentialStyle\n",
    "from openpyxl.formatting.rule import Rule"
   ]
  },
  {
   "cell_type": "code",
   "execution_count": 31,
   "metadata": {},
   "outputs": [],
   "source": [
    "yellow_back= PatternFill(bgColor=colors.BLUE)\n",
    "diff_style = DifferentialStyle(fill=yellow_back)\n",
    "rule=Rule(type=\"expression\", dxf=diff_style)\n",
    "rule.formula= [\"$M1<70000\"]"
   ]
  },
  {
   "cell_type": "code",
   "execution_count": 5,
   "metadata": {},
   "outputs": [
    {
     "data": {
      "text/plain": [
       "'A1:M101'"
      ]
     },
     "execution_count": 5,
     "metadata": {},
     "output_type": "execute_result"
    }
   ],
   "source": [
    "sheet.calculate_dimension()"
   ]
  },
  {
   "cell_type": "code",
   "execution_count": 24,
   "metadata": {},
   "outputs": [
    {
     "ename": "NameError",
     "evalue": "name 'rule' is not defined",
     "output_type": "error",
     "traceback": [
      "\u001b[1;31m---------------------------------------------------------------------------\u001b[0m",
      "\u001b[1;31mNameError\u001b[0m                                 Traceback (most recent call last)",
      "Cell \u001b[1;32mIn[24], line 1\u001b[0m\n\u001b[1;32m----> 1\u001b[0m sheet\u001b[39m.\u001b[39mconditional_formatting\u001b[39m.\u001b[39madd(sheet\u001b[39m.\u001b[39mcalculate_dimension(), rule)\n",
      "\u001b[1;31mNameError\u001b[0m: name 'rule' is not defined"
     ]
    }
   ],
   "source": [
    "sheet.conditional_formatting.add(sheet.calculate_dimension(), rule)"
   ]
  },
  {
   "cell_type": "code",
   "execution_count": 25,
   "metadata": {},
   "outputs": [],
   "source": [
    "#formato condicional\n",
    "from openpyxl.formatting.rule import ColorScaleRule\n",
    "#color_scale_rule=ColorScaleRule(start_type=\"min\",start_color=colors.BLUE,end_type=\"max\",end_color=colors.WHITE)\n"
   ]
  },
  {
   "cell_type": "code",
   "execution_count": 27,
   "metadata": {},
   "outputs": [],
   "source": [
    "color_scale_rule=ColorScaleRule(start_type='percentile', start_value=0, start_color='F2B5EC',mid_type='percentile',mid_value=50,mid_color='FFFF66',end_type='percentile',end_value=90, end_color='81DC3B')"
   ]
  },
  {
   "cell_type": "code",
   "execution_count": 13,
   "metadata": {},
   "outputs": [],
   "source": [
    "for row in sheet['k2:m101']:\n",
    "    for cell in row:\n",
    "        cell.number_format='#,##0'"
   ]
  },
  {
   "cell_type": "code",
   "execution_count": 28,
   "metadata": {},
   "outputs": [],
   "source": [
    "sheet.conditional_formatting.add(\"m2:m101\",color_scale_rule)"
   ]
  },
  {
   "cell_type": "code",
   "execution_count": 29,
   "metadata": {},
   "outputs": [],
   "source": [
    "work_book.save(filename=\"styled_sb_cond.xlsx\")"
   ]
  }
 ],
 "metadata": {
  "kernelspec": {
   "display_name": "Python 3",
   "language": "python",
   "name": "python3"
  },
  "language_info": {
   "codemirror_mode": {
    "name": "ipython",
    "version": 3
   },
   "file_extension": ".py",
   "mimetype": "text/x-python",
   "name": "python",
   "nbconvert_exporter": "python",
   "pygments_lexer": "ipython3",
   "version": "3.11.3"
  },
  "orig_nbformat": 4
 },
 "nbformat": 4,
 "nbformat_minor": 2
}
