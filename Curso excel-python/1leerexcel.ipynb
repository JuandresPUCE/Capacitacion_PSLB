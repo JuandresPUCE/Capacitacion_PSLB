{
 "cells": [
  {
   "cell_type": "code",
   "execution_count": 9,
   "metadata": {},
   "outputs": [],
   "source": [
    "import openpyxl"
   ]
  },
  {
   "cell_type": "code",
   "execution_count": 10,
   "metadata": {},
   "outputs": [],
   "source": [
    "work_book = openpyxl.load_workbook('Book1.xlsx')"
   ]
  },
  {
   "cell_type": "code",
   "execution_count": 11,
   "metadata": {},
   "outputs": [
    {
     "data": {
      "text/plain": [
       "['Sheet1', 'revenue']"
      ]
     },
     "execution_count": 11,
     "metadata": {},
     "output_type": "execute_result"
    }
   ],
   "source": [
    "work_book.sheetnames"
   ]
  },
  {
   "cell_type": "code",
   "execution_count": 12,
   "metadata": {},
   "outputs": [],
   "source": [
    "sheet_obj=work_book['revenue']"
   ]
  },
  {
   "cell_type": "code",
   "execution_count": 13,
   "metadata": {},
   "outputs": [
    {
     "data": {
      "text/plain": [
       "'revenue'"
      ]
     },
     "execution_count": 13,
     "metadata": {},
     "output_type": "execute_result"
    }
   ],
   "source": [
    "sheet_obj.title"
   ]
  },
  {
   "cell_type": "code",
   "execution_count": 15,
   "metadata": {},
   "outputs": [
    {
     "data": {
      "text/plain": [
       "'Company'"
      ]
     },
     "execution_count": 15,
     "metadata": {},
     "output_type": "execute_result"
    }
   ],
   "source": [
    "sheet_obj['A1'].value"
   ]
  },
  {
   "cell_type": "code",
   "execution_count": 25,
   "metadata": {},
   "outputs": [
    {
     "data": {
      "text/plain": [
       "('Walmart',\n",
       " ' based in',\n",
       " 'United States',\n",
       " ' has a revenue of $ ',\n",
       " '514',\n",
       " ' billon ')"
      ]
     },
     "execution_count": 25,
     "metadata": {},
     "output_type": "execute_result"
    }
   ],
   "source": [
    "#extraerinformacion\n",
    "sheet_obj['A2'].value , \" based in\" , sheet_obj['B2'].value , \" has a revenue of $ \" , str(sheet_obj['c2'].value) , \" billon \""
   ]
  },
  {
   "cell_type": "code",
   "execution_count": 27,
   "metadata": {},
   "outputs": [],
   "source": [
    "max_col =sheet_obj.max_column"
   ]
  },
  {
   "cell_type": "code",
   "execution_count": 28,
   "metadata": {},
   "outputs": [],
   "source": [
    "max_row =sheet_obj.max_row"
   ]
  },
  {
   "cell_type": "code",
   "execution_count": 29,
   "metadata": {},
   "outputs": [
    {
     "name": "stdout",
     "output_type": "stream",
     "text": [
      "Company\n",
      "Country\n",
      "Revenue (billion $)\n"
     ]
    }
   ],
   "source": [
    "#recorrer fila\n",
    "for i in range (1, max_col +1):\n",
    "    cell_obj = sheet_obj.cell(row=1,column=i)\n",
    "    print(cell_obj.value)"
   ]
  },
  {
   "cell_type": "code",
   "execution_count": 31,
   "metadata": {},
   "outputs": [
    {
     "name": "stdout",
     "output_type": "stream",
     "text": [
      "Company\n",
      "Walmart\n",
      "Sinopec Group\n",
      "Royal Dutch Shell\n",
      "China National Petroleum\n",
      "State Grid\n",
      "Saudi Aramco\n",
      "BP\n",
      "Exxon Mobil\n",
      "Volkswagen\n",
      "Toyota Motors\n"
     ]
    }
   ],
   "source": [
    "#recorrer columna\n",
    "for i in range (1, max_row +1):\n",
    "    cell_obj = sheet_obj.cell(row=i,column=1)\n",
    "    print(cell_obj.value)"
   ]
  },
  {
   "cell_type": "code",
   "execution_count": 32,
   "metadata": {},
   "outputs": [
    {
     "data": {
      "text/plain": [
       "((<Cell 'revenue'.A1>, <Cell 'revenue'.B1>, <Cell 'revenue'.C1>),\n",
       " (<Cell 'revenue'.A2>, <Cell 'revenue'.B2>, <Cell 'revenue'.C2>))"
      ]
     },
     "execution_count": 32,
     "metadata": {},
     "output_type": "execute_result"
    }
   ],
   "source": [
    "#rangos\n",
    "sheet_obj['A1':'C2']"
   ]
  },
  {
   "cell_type": "code",
   "execution_count": 34,
   "metadata": {},
   "outputs": [
    {
     "name": "stdout",
     "output_type": "stream",
     "text": [
      "A1 Company\n",
      "B1 Country\n",
      "C1 Revenue (billion $)\n",
      "------------------------\n",
      "A2 Walmart\n",
      "B2 United States\n",
      "C2 514\n",
      "------------------------\n"
     ]
    }
   ],
   "source": [
    "for rows in sheet_obj['A1':'C2']:\n",
    "    for cell in rows:\n",
    "        print(cell.coordinate, cell.value)\n",
    "    print('------------------------')"
   ]
  },
  {
   "cell_type": "code",
   "execution_count": 35,
   "metadata": {},
   "outputs": [
    {
     "name": "stdout",
     "output_type": "stream",
     "text": [
      "('Company', 'Country', 'Revenue (billion $)')\n",
      "('Walmart', 'United States', 514)\n"
     ]
    }
   ],
   "source": [
    "#accede a los datos de la fila del encabezado de las columnas\n",
    "for row in sheet_obj.iter_rows(min_row=1,max_row=2,min_col=1,max_col=3,values_only=True):\n",
    "    print(row)"
   ]
  },
  {
   "cell_type": "code",
   "execution_count": 36,
   "metadata": {},
   "outputs": [
    {
     "name": "stdout",
     "output_type": "stream",
     "text": [
      "('Company', 'Country', 'Revenue (billion $)')\n",
      "('Walmart', 'United States', 514)\n",
      "('Sinopec Group', 'China', 415)\n"
     ]
    }
   ],
   "source": [
    "#accede a las columnas \n",
    "for column in sheet_obj.iter_rows(min_row=1,max_row=3,min_col=1,max_col=3,values_only=True):\n",
    "    print(column)"
   ]
  },
  {
   "cell_type": "code",
   "execution_count": 37,
   "metadata": {},
   "outputs": [],
   "source": [
    "import json"
   ]
  },
  {
   "cell_type": "code",
   "execution_count": 38,
   "metadata": {},
   "outputs": [],
   "source": [
    "revenues = {}"
   ]
  },
  {
   "cell_type": "code",
   "execution_count": 39,
   "metadata": {},
   "outputs": [],
   "source": [
    "for row in sheet_obj.iter_rows(min_row=2,max_row=4,min_col=1,max_col=3,values_only=True):\n",
    "    rep = row[0]\n",
    "    rev_details ={\"Country\":row[1],\"Revenue\":row[2],}\n",
    "    revenues[rep]=rev_details\n"
   ]
  },
  {
   "cell_type": "code",
   "execution_count": 40,
   "metadata": {},
   "outputs": [
    {
     "name": "stdout",
     "output_type": "stream",
     "text": [
      "{\n",
      "    \"Royal Dutch Shell\": {\n",
      "        \"Country\": \"Netherlands\",\n",
      "        \"Revenue\": 397\n",
      "    },\n",
      "    \"Sinopec Group\": {\n",
      "        \"Country\": \"China\",\n",
      "        \"Revenue\": 415\n",
      "    },\n",
      "    \"Walmart\": {\n",
      "        \"Country\": \"United States\",\n",
      "        \"Revenue\": 514\n",
      "    }\n",
      "}\n"
     ]
    }
   ],
   "source": [
    "print(json.dumps(revenues,indent=4,sort_keys=True))"
   ]
  }
 ],
 "metadata": {
  "kernelspec": {
   "display_name": "Python 3",
   "language": "python",
   "name": "python3"
  },
  "language_info": {
   "codemirror_mode": {
    "name": "ipython",
    "version": 3
   },
   "file_extension": ".py",
   "mimetype": "text/x-python",
   "name": "python",
   "nbconvert_exporter": "python",
   "pygments_lexer": "ipython3",
   "version": "3.11.3"
  },
  "orig_nbformat": 4
 },
 "nbformat": 4,
 "nbformat_minor": 2
}
