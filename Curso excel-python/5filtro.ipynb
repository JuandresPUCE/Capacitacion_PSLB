{
 "cells": [
  {
   "cell_type": "code",
   "execution_count": 10,
   "metadata": {},
   "outputs": [],
   "source": [
    "import openpyxl #libreria para modificar xl\n",
    "work_book =openpyxl.Workbook() #abre en memoria\n",
    "work_sheet=work_book.active #marca activa la hoja"
   ]
  },
  {
   "cell_type": "code",
   "execution_count": 11,
   "metadata": {},
   "outputs": [],
   "source": [
    "data = [[ \"Champion \",  \"Year \"],  \n",
    "    [ \"France \", 2018],  \n",
    "    [ \"Spain \", 2010],  \n",
    "    [ \"Italy \", 2006],  \n",
    "    [ \"France \", 1998],  \n",
    "    [ \"Brazil \", 1994],  \n",
    "    [ \"Argentina \", 1986],  \n",
    "    [ \"Italy \", 1982],  \n",
    "    [ \"Argentina \", 1978],  \n",
    "    [ \"Germany \", 1974],  \n",
    "    [ \"Brazil \", 1970],  \n",
    "    [ \"England \", 1966],  \n",
    "    [ \"Brazil \", 1962],  \n",
    "    [ \"Brazil \", 1958],  \n",
    "    [ \"Germany \", 2014],  \n",
    "    [ \"Germany \", 1954],  \n",
    "    [ \"Uruguay \", 1950],  \n",
    "    [ \"Italy \", 1938],  \n",
    "    [ \"Italy \", 1934],  \n",
    "    [ \"Uruguay \", 1930],  \n",
    "    [ \"Germany \", 1990],  \n",
    "    [ \"Brazil \", 2002]] #lista de datos"
   ]
  },
  {
   "cell_type": "code",
   "execution_count": 12,
   "metadata": {},
   "outputs": [],
   "source": [
    "for r in data:\n",
    "    work_sheet.append(r)\n",
    "#bucle recorre la lista y anade la data"
   ]
  },
  {
   "cell_type": "code",
   "execution_count": 13,
   "metadata": {},
   "outputs": [
    {
     "data": {
      "text/plain": [
       "'A1:B22'"
      ]
     },
     "execution_count": 13,
     "metadata": {},
     "output_type": "execute_result"
    }
   ],
   "source": [
    "work_sheet.calculate_dimension()# calcula la longitud de la hoja"
   ]
  },
  {
   "cell_type": "code",
   "execution_count": 14,
   "metadata": {},
   "outputs": [],
   "source": [
    "#auto filtro para la hoja\n",
    "work_sheet.auto_filter.ref=work_sheet.calculate_dimension()# adiciona un auto filtro con la longitud de la hoja"
   ]
  },
  {
   "cell_type": "code",
   "execution_count": 16,
   "metadata": {},
   "outputs": [],
   "source": [
    "#filtro\n",
    "work_sheet.auto_filter.add_filter_column(0,['Brazil','Italy','Argentina']) #filtro con valores deseados"
   ]
  },
  {
   "cell_type": "code",
   "execution_count": 18,
   "metadata": {},
   "outputs": [
    {
     "data": {
      "text/plain": [
       "(<Cell 'Sheet'.B2>, <Cell 'Sheet'.B22>)"
      ]
     },
     "execution_count": 18,
     "metadata": {},
     "output_type": "execute_result"
    }
   ],
   "source": [
    "work_sheet['b'][1],work_sheet['b'][-1]"
   ]
  },
  {
   "cell_type": "code",
   "execution_count": 22,
   "metadata": {},
   "outputs": [],
   "source": [
    "range_str=work_sheet['b'][1].coordinate+':'+work_sheet['b'][-1].coordinate\n",
    "range_str #data representada en el xl desde b2 a b22\n",
    "work_sheet.auto_filter.add_sort_condition(range_str,descending=True)"
   ]
  },
  {
   "cell_type": "code",
   "execution_count": 17,
   "metadata": {},
   "outputs": [],
   "source": [
    "work_book.save('slb_wc.xlsx')"
   ]
  }
 ],
 "metadata": {
  "kernelspec": {
   "display_name": "Python 3",
   "language": "python",
   "name": "python3"
  },
  "language_info": {
   "codemirror_mode": {
    "name": "ipython",
    "version": 3
   },
   "file_extension": ".py",
   "mimetype": "text/x-python",
   "name": "python",
   "nbconvert_exporter": "python",
   "pygments_lexer": "ipython3",
   "version": "3.11.3"
  },
  "orig_nbformat": 4
 },
 "nbformat": 4,
 "nbformat_minor": 2
}
